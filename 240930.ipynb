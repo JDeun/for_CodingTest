{
 "cells": [
  {
   "cell_type": "code",
   "execution_count": null,
   "metadata": {},
   "outputs": [],
   "source": [
    "abs\n",
    "all\n",
    "any"
   ]
  },
  {
   "cell_type": "code",
   "execution_count": null,
   "metadata": {},
   "outputs": [],
   "source": [
    "dir"
   ]
  },
  {
   "cell_type": "code",
   "execution_count": 5,
   "metadata": {},
   "outputs": [
    {
     "data": {
      "text/plain": [
       "'10,000,000,000'"
      ]
     },
     "execution_count": 5,
     "metadata": {},
     "output_type": "execute_result"
    }
   ],
   "source": [
    "format(10000000000,\",\")"
   ]
  },
  {
   "cell_type": "code",
   "execution_count": 6,
   "metadata": {},
   "outputs": [
    {
     "data": {
      "text/plain": [
       "'1.000000E+10'"
      ]
     },
     "execution_count": 6,
     "metadata": {},
     "output_type": "execute_result"
    }
   ],
   "source": [
    "format(10000000000,\"E\")"
   ]
  },
  {
   "cell_type": "code",
   "execution_count": 7,
   "metadata": {},
   "outputs": [
    {
     "data": {
      "text/plain": [
       "'2540be400'"
      ]
     },
     "execution_count": 7,
     "metadata": {},
     "output_type": "execute_result"
    }
   ],
   "source": [
    "format(10000000000,\"x\")"
   ]
  },
  {
   "cell_type": "code",
   "execution_count": 8,
   "metadata": {},
   "outputs": [
    {
     "data": {
      "text/plain": [
       "'00000000100,000.0000'"
      ]
     },
     "execution_count": 8,
     "metadata": {},
     "output_type": "execute_result"
    }
   ],
   "source": [
    "format(100000,\"0>020,.4f\")"
   ]
  },
  {
   "cell_type": "code",
   "execution_count": null,
   "metadata": {},
   "outputs": [],
   "source": [
    "def \n",
    "\n",
    "filter"
   ]
  },
  {
   "cell_type": "markdown",
   "metadata": {},
   "source": [
    "## 구글 워밍업 문제\n",
    "- 1부터 10000까지 8이라는 숫자가 총 몇 번 나오는가?\n",
    "- 8이 포함되어 있는 숫자의 갯수를 카운팅하는 것이 아님, 8이라는 숫자를 모두 카운탱해야함.(*예를 들어, 8088은 3, 8888은 4로 카운팅 해야함.)"
   ]
  },
  {
   "cell_type": "code",
   "execution_count": 12,
   "metadata": {},
   "outputs": [
    {
     "data": {
      "text/plain": [
       "4000"
      ]
     },
     "execution_count": 12,
     "metadata": {},
     "output_type": "execute_result"
    }
   ],
   "source": [
    "# %%timeit\n",
    "str(list(range(1,10001))).count('8')"
   ]
  },
  {
   "cell_type": "code",
   "execution_count": 15,
   "metadata": {},
   "outputs": [
    {
     "data": {
      "text/plain": [
       "4000"
      ]
     },
     "execution_count": 15,
     "metadata": {},
     "output_type": "execute_result"
    }
   ],
   "source": [
    "count = 0\n",
    "for i in range(10001):\n",
    "    if '8' in str(i):\n",
    "        count += str(i).count(\"8\")\n",
    "count"
   ]
  },
  {
   "cell_type": "markdown",
   "metadata": {},
   "source": [
    "## 다음 워밍업 문제\n",
    "- 1차원들의 점들이 주어졌을 때, 그 중 가장 거리가 짧은 것의 쌍을 출력하는 함수를  작성하시오. 단, 점들의 배열은 모두 정렬되어 있다고 가정한다.\n",
    "- 예를 들어 s = [1,3,4,8,13,17,20]이 주어졌다면, 결과 값은 (3,4)가 될 것이다."
   ]
  },
  {
   "cell_type": "code",
   "execution_count": 25,
   "metadata": {},
   "outputs": [
    {
     "data": {
      "text/plain": [
       "20"
      ]
     },
     "execution_count": 25,
     "metadata": {},
     "output_type": "execute_result"
    }
   ],
   "source": [
    "s = [1,3,4,8,13,17,20]\n",
    "m = max(s)\n",
    "m"
   ]
  },
  {
   "cell_type": "code",
   "execution_count": 29,
   "metadata": {},
   "outputs": [
    {
     "data": {
      "text/plain": [
       "(3, 4)"
      ]
     },
     "execution_count": 29,
     "metadata": {},
     "output_type": "execute_result"
    }
   ],
   "source": [
    "s = [1,3,4,8,13,17,20]\n",
    "m = max(s)\n",
    "\n",
    "index = 0\n",
    "for i in range(len(s)-1):\n",
    "    if m > s [i+1] - s[i]:\n",
    "        index = i\n",
    "        m = s[i+1] - s[i]\n",
    "s[index], s[index+1]"
   ]
  },
  {
   "cell_type": "code",
   "execution_count": 30,
   "metadata": {},
   "outputs": [
    {
     "data": {
      "text/plain": [
       "(3, 4)"
      ]
     },
     "execution_count": 30,
     "metadata": {},
     "output_type": "execute_result"
    }
   ],
   "source": [
    "s = [1,3,4,8,13,17,20]\n",
    "ss = [3,4,8,13,17,20]\n",
    "list(zip(s,ss))\n",
    "\n",
    "sorted(list(zip(s,ss)), key = lambda i:i[1]-i[0])[0]"
   ]
  },
  {
   "cell_type": "code",
   "execution_count": 31,
   "metadata": {},
   "outputs": [
    {
     "data": {
      "text/plain": [
       "[(3, 4), (1, 3), (17, 20), (4, 8), (13, 17), (8, 13)]"
      ]
     },
     "execution_count": 31,
     "metadata": {},
     "output_type": "execute_result"
    }
   ],
   "source": [
    "def 두수의차(i):\n",
    "    return i[1]-i[0]\n",
    "\n",
    "sorted(list(zip(s,ss)),key=두수의차)"
   ]
  },
  {
   "cell_type": "markdown",
   "metadata": {},
   "source": [
    "## 카카오 2018 공채 1번\n",
    "- or연산과 이진 연산에 대한 문제"
   ]
  },
  {
   "cell_type": "code",
   "execution_count": 34,
   "metadata": {},
   "outputs": [
    {
     "data": {
      "text/plain": [
       "'0b1001'"
      ]
     },
     "execution_count": 34,
     "metadata": {},
     "output_type": "execute_result"
    }
   ],
   "source": [
    "bin(9)"
   ]
  },
  {
   "cell_type": "code",
   "execution_count": 35,
   "metadata": {},
   "outputs": [
    {
     "data": {
      "text/plain": [
       "'0b11110'"
      ]
     },
     "execution_count": 35,
     "metadata": {},
     "output_type": "execute_result"
    }
   ],
   "source": [
    "bin(30)"
   ]
  },
  {
   "cell_type": "code",
   "execution_count": null,
   "metadata": {},
   "outputs": [],
   "source": [
    "# 1001\n",
    "#11110\n",
    "# ----\n",
    "# 11111"
   ]
  },
  {
   "cell_type": "code",
   "execution_count": 38,
   "metadata": {},
   "outputs": [
    {
     "data": {
      "text/plain": [
       "'#####'"
      ]
     },
     "execution_count": 38,
     "metadata": {},
     "output_type": "execute_result"
    }
   ],
   "source": [
    "bin(9|30)[2:].replace(\"1\",\"#\").replace(\"0\",\" \")"
   ]
  },
  {
   "cell_type": "code",
   "execution_count": 41,
   "metadata": {},
   "outputs": [
    {
     "name": "stdout",
     "output_type": "stream",
     "text": [
      "(9, 30)\n",
      "(20, 1)\n",
      "(28, 21)\n",
      "(18, 17)\n",
      "(11, 28)\n"
     ]
    }
   ],
   "source": [
    "arr1 = [9,20,28,18,11]\n",
    "arr2 = [30,1,21,17,28]\n",
    "n = 5\n",
    "\n",
    "for i in zip(arr1, arr2):\n",
    "    print(i)"
   ]
  },
  {
   "cell_type": "code",
   "execution_count": 42,
   "metadata": {},
   "outputs": [
    {
     "name": "stdout",
     "output_type": "stream",
     "text": [
      "#####\n",
      "# # #\n",
      "### #\n",
      "#  ##\n",
      "#####\n"
     ]
    }
   ],
   "source": [
    "for i, j in zip(arr1, arr2):\n",
    "    print(bin(i|j)[2:].replace(\"1\",\"#\").replace(\"0\",\" \"))"
   ]
  },
  {
   "cell_type": "code",
   "execution_count": 45,
   "metadata": {},
   "outputs": [
    {
     "name": "stdout",
     "output_type": "stream",
     "text": [
      "#####\n",
      "# # #\n",
      "### #\n",
      "#  ##\n",
      "#####\n"
     ]
    }
   ],
   "source": [
    "arr1 = [9,20,28,18,11]\n",
    "arr2 = [30,1,21,17,28]\n",
    "n = 5\n",
    "\n",
    "for i, j in zip(arr1, arr2):\n",
    "    print(bin(i|j)[2:].zfill(n).replace(\"1\",\"#\").replace(\"0\",\" \"))"
   ]
  },
  {
   "cell_type": "code",
   "execution_count": 46,
   "metadata": {},
   "outputs": [],
   "source": [
    "def solution(n, arr1, arr2):\n",
    "    answer = []\n",
    "    for i, j in zip(arr1, arr2):\n",
    "        answer(bin(i|j)[2:].zfill(n).replace(\"1\",\"#\").replace(\"0\",\" \"))\n",
    "    return answer"
   ]
  },
  {
   "cell_type": "markdown",
   "metadata": {},
   "source": [
    "## 카카오 2018 공채 2번"
   ]
  },
  {
   "cell_type": "code",
   "execution_count": 49,
   "metadata": {},
   "outputs": [
    {
     "name": "stdout",
     "output_type": "stream",
     "text": [
      "[1, 2, 3]\n"
     ]
    }
   ],
   "source": [
    "def solution (dartResult):\n",
    "    answer = []\n",
    "    for i in dartResult:\n",
    "        if i == 'S':\n",
    "            pass\n",
    "        elif i == 'D':\n",
    "            pass\n",
    "        elif i == 'T':\n",
    "            pass\n",
    "        elif i == '*':\n",
    "            pass\n",
    "        elif i == '#':\n",
    "            pass\n",
    "        else:\n",
    "            answer.append(int(i))\n",
    "\n",
    "    return answer\n",
    "print(solution('1S2D*3T'))"
   ]
  },
  {
   "cell_type": "code",
   "execution_count": 55,
   "metadata": {},
   "outputs": [
    {
     "name": "stdout",
     "output_type": "stream",
     "text": [
      "79\n"
     ]
    }
   ],
   "source": [
    "def solution (dartResult):\n",
    "    answer = []\n",
    "    for num, i in enumerate(dartResult,1):\n",
    "        if i == 'S':\n",
    "            answer[-1]**=1\n",
    "        elif i == 'D':\n",
    "            answer[-1]**=2\n",
    "        elif i == 'T':\n",
    "            answer[-1]**=3\n",
    "        elif i == '*':\n",
    "            answer[-1]*=2\n",
    "            if len(answer)==2:\n",
    "                answer[-2] *=2\n",
    "        elif i == '#':\n",
    "            answer[-1] *=-1\n",
    "        else:\n",
    "            if dartResult[num-1:num+1] == '10':\n",
    "                answer.append(10)\n",
    "            elif dartResult[num-2:num] != '10':\n",
    "                answer.append(int(i))\n",
    "\n",
    "    return sum(answer)\n",
    "print(solution('1S5D*3T'))"
   ]
  },
  {
   "cell_type": "code",
   "execution_count": null,
   "metadata": {},
   "outputs": [],
   "source": [
    "def solution(dartResult):\n",
    "    answer = []\n",
    "    i = 0\n",
    "    length = len(dartResult)\n",
    "    \n",
    "    while i < length:\n",
    "        # 점수 처리 (10 처리 포함)\n",
    "        if dartResult[i] == '1' and i + 1 < length and dartResult[i + 1] == '0':\n",
    "            score = 10\n",
    "            i += 1  # '10'은 두 글자이므로 한 글자를 더 넘김\n",
    "        else:\n",
    "            score = int(dartResult[i])\n",
    "\n",
    "        i += 1  # 다음 문자로 이동 (보너스 확인)\n",
    "        \n",
    "        # 보너스 처리 (S, D, T)\n",
    "        if dartResult[i] == 'S':\n",
    "            score **= 1\n",
    "        elif dartResult[i] == 'D':\n",
    "            score **= 2\n",
    "        elif dartResult[i] == 'T':\n",
    "            score **= 3\n",
    "        \n",
    "        answer.append(score)\n",
    "        i += 1  # 다음 문자로 이동 (옵션 확인)\n",
    "        \n",
    "        # 옵션 처리 (*, #)\n",
    "        if i < length and dartResult[i] in ['*', '#']:\n",
    "            if dartResult[i] == '*':\n",
    "                answer[-1] *= 2\n",
    "                if len(answer) > 1:  # 이전 점수도 2배\n",
    "                    answer[-2] *= 2\n",
    "            elif dartResult[i] == '#':\n",
    "                answer[-1] *= -1\n",
    "            i += 1  # 옵션 문자 처리 후 다음으로 이동\n",
    "    \n",
    "    return sum(answer)\n"
   ]
  },
  {
   "cell_type": "code",
   "execution_count": 58,
   "metadata": {},
   "outputs": [
    {
     "data": {
      "text/plain": [
       "[('1', 'S', ''), ('2', 'D', '*'), ('3', 'T', '')]"
      ]
     },
     "execution_count": 58,
     "metadata": {},
     "output_type": "execute_result"
    }
   ],
   "source": [
    "import re\n",
    "\n",
    "testcase = ['1S2D*3T', '1D2S#10S']\n",
    "pattern = re.compile(r'([0-9]|10)([SDT])([\\*\\#]?)')\n",
    "pattern.findall(testcase[0])"
   ]
  },
  {
   "cell_type": "code",
   "execution_count": 59,
   "metadata": {},
   "outputs": [
    {
     "name": "stdout",
     "output_type": "stream",
     "text": [
      "37\n"
     ]
    }
   ],
   "source": [
    "import re\n",
    "\n",
    "def solution(dartResult):\n",
    "    # 정규식을 사용하여 점수, 승수, 옵션을 분리\n",
    "    pattern = re.compile(r'(\\d+)([SDT])([\\*\\#]?)')\n",
    "    answer = []\n",
    "    \n",
    "    # 승수 처리용 딕셔너리\n",
    "    formula = {\n",
    "        'S': lambda result: result,\n",
    "        'D': lambda result: result**2,\n",
    "        'T': lambda result: result**3\n",
    "    }\n",
    "\n",
    "    # 패턴에 맞는 점수, 승수, 옵션 추출\n",
    "    for 숫자, 승수, 상 in pattern.findall(dartResult):\n",
    "        # 점수에 승수를 적용\n",
    "        점수 = formula[승수](int(숫자))\n",
    "        \n",
    "        # 옵션에 따라 처리\n",
    "        if 상 == '*':\n",
    "            # 현재 점수 2배\n",
    "            점수 *= 2\n",
    "            # 이전 점수도 있다면 2배\n",
    "            if answer:\n",
    "                answer[-1] *= 2\n",
    "        elif 상 == '#':\n",
    "            # 현재 점수를 -1로 만듦\n",
    "            점수 *= -1\n",
    "        \n",
    "        # 결과 배열에 점수 추가\n",
    "        answer.append(점수)\n",
    "\n",
    "    # 점수들의 합 반환\n",
    "    return sum(answer)\n",
    "\n",
    "# 테스트 예시\n",
    "print(solution('1S2D*3T'))  # 출력: 37\n"
   ]
  },
  {
   "cell_type": "markdown",
   "metadata": {},
   "source": [
    "## 카카오 2018 문제 3번"
   ]
  },
  {
   "cell_type": "code",
   "execution_count": 61,
   "metadata": {},
   "outputs": [],
   "source": [
    "도시이름 = ['Jeju', 'Pangyo', 'Seoul', 'NewYork', 'LA', 'Jeju', 'Pangyo', 'Seoul', 'NewYork', 'LA']"
   ]
  },
  {
   "cell_type": "code",
   "execution_count": 62,
   "metadata": {},
   "outputs": [
    {
     "data": {
      "text/plain": [
       "deque([10, 20, 30, 40])"
      ]
     },
     "execution_count": 62,
     "metadata": {},
     "output_type": "execute_result"
    }
   ],
   "source": [
    "from collections import deque\n",
    "\n",
    "l = [10,20,30,40]\n",
    "d = deque(l)\n",
    "d"
   ]
  },
  {
   "cell_type": "code",
   "execution_count": 64,
   "metadata": {},
   "outputs": [],
   "source": [
    "from collections import deque\n",
    "\n",
    "def solution(cacheSize, cities):\n",
    "    # 캐시가 없는 경우 (cacheSize가 0인 경우)\n",
    "    if cacheSize == 0:\n",
    "        return len(cities) * 5\n",
    "    \n",
    "    # 캐시를 deque로 구현 (최대 길이 cacheSize)\n",
    "    cache = deque(maxlen=cacheSize)\n",
    "    total_time = 0\n",
    "    \n",
    "    # 도시 배열을 순차적으로 처리\n",
    "    for city in cities:\n",
    "        city = city.lower()  # 대소문자 구분을 없애기 위해 소문자로 변환\n",
    "        \n",
    "        if city in cache:\n",
    "            # 캐시 히트 -> 실행 시간 1\n",
    "            total_time += 1\n",
    "            # LRU 갱신: 현재 도시를 사용했으므로 캐시에서 제거하고 다시 추가\n",
    "            cache.remove(city)\n",
    "            cache.append(city)\n",
    "        else:\n",
    "            # 캐시 미스 -> 실행 시간 5\n",
    "            total_time += 5\n",
    "            # 캐시에 도시 추가 (캐시가 꽉 차면 자동으로 오래된 항목 삭제)\n",
    "            cache.append(city)\n",
    "    \n",
    "    return total_time\n"
   ]
  },
  {
   "cell_type": "code",
   "execution_count": 4,
   "metadata": {},
   "outputs": [
    {
     "name": "stdout",
     "output_type": "stream",
     "text": [
      "True\n"
     ]
    }
   ],
   "source": [
    "def find_pair_sorted(data, target):\n",
    "    data.sort()\n",
    "    left, right = 0, len(data) - 1\n",
    "    while left < right:\n",
    "        sum = data[left] + data[right]\n",
    "        if sum == target:\n",
    "            return True\n",
    "        elif sum < target:\n",
    "            left += 1\n",
    "        else:\n",
    "            right -= 1\n",
    "    return False\n",
    "\n",
    "# 예시 실행\n",
    "data = [4, 1, 7, 9, 3, 16, 5]\n",
    "target = 14\n",
    "\n",
    "result = find_pair_sorted(data, target)\n",
    "print(result)  # True 또는 False 출력"
   ]
  },
  {
   "cell_type": "code",
   "execution_count": 3,
   "metadata": {},
   "outputs": [
    {
     "name": "stdout",
     "output_type": "stream",
     "text": [
      "True\n"
     ]
    }
   ],
   "source": [
    "def find_pair(data, target):\n",
    "  for i in range(len(data)):\n",
    "    for j in range(i+1, len(data)):\n",
    "      if data[i] + data[j] == target:\n",
    "        return True\n",
    "  return False\n",
    "\n",
    "# 예시 실행\n",
    "data = [4, 1, 7, 9, 3, 16, 5]\n",
    "target = 14\n",
    "\n",
    "result = find_pair(data, target)\n",
    "print(result)  # True 또는 False 출력"
   ]
  },
  {
   "cell_type": "markdown",
   "metadata": {},
   "source": [
    "## 2018 카카오 코딩테스트 문제 4번"
   ]
  },
  {
   "cell_type": "code",
   "execution_count": 4,
   "metadata": {},
   "outputs": [
    {
     "name": "stdout",
     "output_type": "stream",
     "text": [
      "[]\n",
      "[]\n",
      "[]\n"
     ]
    }
   ],
   "source": [
    "def solution(n, t, m, timetable):\n",
    "    # 시간표를 분 단위로 변환하고 정렬\n",
    "    timetable = sorted([int(i[:2]) * 60 + int(i[3:]) for i in timetable])\n",
    "\n",
    "    # 첫 번째 셔틀버스는 09:00에 출발 (540분)\n",
    "    shuttle_time = 540\n",
    "    con_arrival_time = 540  # 콘이 탑승할 수 있는 시간\n",
    "\n",
    "    for i in range(n):  # n회차 만큼 버스가 출발\n",
    "        for j in range(m):  # 각 회차에 m명의 승객이 탈 수 있음\n",
    "            if timetable and timetable[0] <= shuttle_time:  # 승객이 버스 출발 전에 도착했으면\n",
    "                con_arrival_time = timetable.pop(0) - 1  # 승객이 타고, 콘은 그보다 1분 일찍 와야함\n",
    "            else:\n",
    "                con_arrival_time = shuttle_time  # 그 시간에 콘이 탈 수 있음\n",
    "        \n",
    "        # 마지막 버스가 아니라면 다음 버스 시간으로 이동\n",
    "        shuttle_time += t\n",
    "\n",
    "    # 최종 탑승 시간의 형식을 \"시:분\"으로 맞춰 반환\n",
    "    hour = con_arrival_time // 60\n",
    "    minute = con_arrival_time % 60\n",
    "    return f\"{hour:02d}:{minute:02d}\"\n",
    "\n",
    "# 테스트케이스 실행\n",
    "testcase = [\n",
    "    (1, 1, 5, ['08:00', '08:01', '08:02', '08:03']),\n",
    "    (2, 10, 2, ['09:10', '09:09', '08:00']),\n",
    "    (2, 1, 2, ['09:00', '09:00', '09:00', '09:00'])\n",
    "]\n",
    "\n",
    "for n, t, m, timetable in testcase:\n",
    "    print(solution(n, t, m, timetable))\n"
   ]
  },
  {
   "cell_type": "code",
   "execution_count": 7,
   "metadata": {},
   "outputs": [
    {
     "name": "stdout",
     "output_type": "stream",
     "text": [
      "09:00\n",
      "09:09\n",
      "08:59\n"
     ]
    }
   ],
   "source": [
    "def solution(n, t, m, timetable):\n",
    "    # 시간표를 분 단위로 변환\n",
    "    timetable = [int(i[:2]) * 60 + int(i[3:]) for i in timetable]\n",
    "    timetable.sort()\n",
    "\n",
    "    # 첫 버스 시간은 09:00\n",
    "    bus_time = 540\n",
    "    last_bus_time = 0\n",
    "\n",
    "    # 각 버스에 대한 처리를 수행\n",
    "    for i in range(n):\n",
    "        crew_count = 0\n",
    "        # 현재 버스에 탑승할 수 있는 인원을 체크\n",
    "        while crew_count < m and timetable and timetable[0] <= bus_time:\n",
    "            last_bus_time = timetable.pop(0)\n",
    "            crew_count += 1\n",
    "        \n",
    "        # 마지막 버스까지의 시간을 체크하기 위해 마지막 버스 시간이 필요\n",
    "        if i < n - 1:\n",
    "            bus_time += t\n",
    "\n",
    "    # 마지막 버스에 자리가 있으면 마지막 버스 시간에 탑승\n",
    "    if crew_count < m:\n",
    "        last_bus_time = bus_time\n",
    "    else:\n",
    "        # 마지막 버스에 꽉 찼을 경우, 마지막 사람보다 1분 일찍 와야 탑승 가능\n",
    "        last_bus_time -= 1\n",
    "\n",
    "    # 결과를 시:분 형식으로 변환\n",
    "    hour = last_bus_time // 60\n",
    "    minute = last_bus_time % 60\n",
    "    return f\"{hour:02d}:{minute:02d}\"\n",
    "\n",
    "# 테스트케이스 실행\n",
    "testcase = [(1, 1, 5, ['08:00', '08:01', '08:02', '08:03']),\n",
    "            (2, 10, 2, ['09:10', '09:09', '08:00']),\n",
    "            (2, 1, 2, ['09:00', '09:00', '09:00', '09:00'])]\n",
    "\n",
    "for n, t, m, timetable in testcase:\n",
    "    print(solution(n, t, m, timetable))\n"
   ]
  },
  {
   "cell_type": "code",
   "execution_count": 12,
   "metadata": {},
   "outputs": [
    {
     "data": {
      "text/plain": [
       "6"
      ]
     },
     "execution_count": 12,
     "metadata": {},
     "output_type": "execute_result"
    }
   ],
   "source": [
    "data = [1,2,3]\n",
    "res = sum(data)\n",
    "res"
   ]
  },
  {
   "cell_type": "code",
   "execution_count": 14,
   "metadata": {},
   "outputs": [
    {
     "data": {
      "text/plain": [
       "1"
      ]
     },
     "execution_count": 14,
     "metadata": {},
     "output_type": "execute_result"
    }
   ],
   "source": [
    "min(data)"
   ]
  },
  {
   "cell_type": "code",
   "execution_count": 15,
   "metadata": {},
   "outputs": [
    {
     "data": {
      "text/plain": [
       "3"
      ]
     },
     "execution_count": 15,
     "metadata": {},
     "output_type": "execute_result"
    }
   ],
   "source": [
    "max(data)"
   ]
  },
  {
   "cell_type": "code",
   "execution_count": 16,
   "metadata": {},
   "outputs": [
    {
     "data": {
      "text/plain": [
       "[0, 1, 2, 2, 4, 5, 6, 10]"
      ]
     },
     "execution_count": 16,
     "metadata": {},
     "output_type": "execute_result"
    }
   ],
   "source": [
    "data = [2,4,5,6,1,2,10,0]\n",
    "\n",
    "sorted(data)"
   ]
  },
  {
   "cell_type": "code",
   "execution_count": 17,
   "metadata": {},
   "outputs": [
    {
     "data": {
      "text/plain": [
       "[10, 6, 5, 4, 2, 2, 1, 0]"
      ]
     },
     "execution_count": 17,
     "metadata": {},
     "output_type": "execute_result"
    }
   ],
   "source": [
    "sorted(data, reverse=True)"
   ]
  },
  {
   "cell_type": "code",
   "execution_count": 18,
   "metadata": {},
   "outputs": [
    {
     "data": {
      "text/plain": [
       "[{'key': 1}, {'key': 2}, {'key': 3}, {'key': 4}, {'key': 5}]"
      ]
     },
     "execution_count": 18,
     "metadata": {},
     "output_type": "execute_result"
    }
   ],
   "source": [
    "data = [{\"key\":4},{\"key\":5},{\"key\":2},{\"key\":1},{\"key\":3}]\n",
    "sorted(data,key = lambda x : x[\"key\"])"
   ]
  },
  {
   "cell_type": "code",
   "execution_count": 19,
   "metadata": {},
   "outputs": [
    {
     "data": {
      "text/plain": [
       "[{'key': 5}, {'key': 4}, {'key': 3}, {'key': 2}, {'key': 1}]"
      ]
     },
     "execution_count": 19,
     "metadata": {},
     "output_type": "execute_result"
    }
   ],
   "source": [
    "sorted(data,key = lambda x : x[\"key\"], reverse=True)"
   ]
  },
  {
   "cell_type": "code",
   "execution_count": 21,
   "metadata": {},
   "outputs": [
    {
     "data": {
      "text/plain": [
       "[('B', 1), ('D', 2), ('C', 3), ('A', 4), ('E', 5)]"
      ]
     },
     "execution_count": 21,
     "metadata": {},
     "output_type": "execute_result"
    }
   ],
   "source": [
    "data = [(\"A\",4),(\"B\",1),(\"C\",3),(\"D\",2),(\"E\",5)]\n",
    "sorted(data,key = lambda x : x[1])"
   ]
  },
  {
   "cell_type": "code",
   "execution_count": 22,
   "metadata": {},
   "outputs": [
    {
     "data": {
      "text/plain": [
       "[('E', 5), ('A', 4), ('C', 3), ('D', 2), ('B', 1)]"
      ]
     },
     "execution_count": 22,
     "metadata": {},
     "output_type": "execute_result"
    }
   ],
   "source": [
    "data = [(\"A\",4),(\"B\",1),(\"C\",3),(\"D\",2),(\"E\",5)]\n",
    "sorted(data,key = lambda x : x[1], reverse=True)"
   ]
  },
  {
   "cell_type": "markdown",
   "metadata": {},
   "source": [
    "product(리스트1, 리스트2) : 여러 개의 리스트에서 각각 하나씩 골라 만들 수 있는 모든 조합(중복허용)\n",
    "permutations(리스트명, 뽑을 숫자) : 주어진 리스트에서 순서를 고려하여 선택할 수 있는 모든 경우의 수\n",
    "combinations(리스트명, 뽑을 숫자) : 주어진 리스트에서 순서를 고려하지 않고 선택할 수 있는 모든 경우의 수\n",
    "combinations_with_replacement() : combinations와 비슷하지만, 같은 항목을 여러 번 선택"
   ]
  },
  {
   "cell_type": "code",
   "execution_count": 24,
   "metadata": {},
   "outputs": [
    {
     "data": {
      "text/plain": [
       "[('A', 'B', 'C'),\n",
       " ('A', 'C', 'B'),\n",
       " ('B', 'A', 'C'),\n",
       " ('B', 'C', 'A'),\n",
       " ('C', 'A', 'B'),\n",
       " ('C', 'B', 'A')]"
      ]
     },
     "execution_count": 24,
     "metadata": {},
     "output_type": "execute_result"
    }
   ],
   "source": [
    "from itertools import permutations\n",
    "data = ['A','B','C']\n",
    "list(permutations(data,3))"
   ]
  },
  {
   "cell_type": "code",
   "execution_count": 25,
   "metadata": {},
   "outputs": [
    {
     "data": {
      "text/plain": [
       "[('A', 'B', 'C')]"
      ]
     },
     "execution_count": 25,
     "metadata": {},
     "output_type": "execute_result"
    }
   ],
   "source": [
    "from itertools import combinations\n",
    "data = ['A','B','C']\n",
    "list(combinations(data,3))"
   ]
  },
  {
   "cell_type": "code",
   "execution_count": 26,
   "metadata": {},
   "outputs": [
    {
     "data": {
      "text/plain": [
       "[('A', 'A', 'A'),\n",
       " ('A', 'A', 'B'),\n",
       " ('A', 'A', 'C'),\n",
       " ('A', 'B', 'A'),\n",
       " ('A', 'B', 'B'),\n",
       " ('A', 'B', 'C'),\n",
       " ('A', 'C', 'A'),\n",
       " ('A', 'C', 'B'),\n",
       " ('A', 'C', 'C'),\n",
       " ('B', 'A', 'A'),\n",
       " ('B', 'A', 'B'),\n",
       " ('B', 'A', 'C'),\n",
       " ('B', 'B', 'A'),\n",
       " ('B', 'B', 'B'),\n",
       " ('B', 'B', 'C'),\n",
       " ('B', 'C', 'A'),\n",
       " ('B', 'C', 'B'),\n",
       " ('B', 'C', 'C'),\n",
       " ('C', 'A', 'A'),\n",
       " ('C', 'A', 'B'),\n",
       " ('C', 'A', 'C'),\n",
       " ('C', 'B', 'A'),\n",
       " ('C', 'B', 'B'),\n",
       " ('C', 'B', 'C'),\n",
       " ('C', 'C', 'A'),\n",
       " ('C', 'C', 'B'),\n",
       " ('C', 'C', 'C')]"
      ]
     },
     "execution_count": 26,
     "metadata": {},
     "output_type": "execute_result"
    }
   ],
   "source": [
    "from itertools import product\n",
    "data = ['A','B','C']\n",
    "list(product(data,repeat=3))"
   ]
  },
  {
   "cell_type": "code",
   "execution_count": 27,
   "metadata": {},
   "outputs": [
    {
     "data": {
      "text/plain": [
       "[('A', 'A', 'A'),\n",
       " ('A', 'A', 'B'),\n",
       " ('A', 'A', 'C'),\n",
       " ('A', 'B', 'B'),\n",
       " ('A', 'B', 'C'),\n",
       " ('A', 'C', 'C'),\n",
       " ('B', 'B', 'B'),\n",
       " ('B', 'B', 'C'),\n",
       " ('B', 'C', 'C'),\n",
       " ('C', 'C', 'C')]"
      ]
     },
     "execution_count": 27,
     "metadata": {},
     "output_type": "execute_result"
    }
   ],
   "source": [
    "from itertools import combinations_with_replacement\n",
    "data = ['A','B','C']\n",
    "list(combinations_with_replacement(data,3))"
   ]
  },
  {
   "cell_type": "markdown",
   "metadata": {},
   "source": [
    "### heapq\n",
    "- 파이썬에서  힙기능을 위해 제공되는 라이브러리, 다익스트라 최단 경로 알고리즘을 포함해 다양한 알고리즘에서 우선순위 큐 기능을 구현하고자 할 때 사용함."
   ]
  },
  {
   "cell_type": "code",
   "execution_count": 28,
   "metadata": {},
   "outputs": [
    {
     "data": {
      "text/plain": [
       "[0, 1, 2, 3, 4, 5, 6, 7, 8, 9]"
      ]
     },
     "execution_count": 28,
     "metadata": {},
     "output_type": "execute_result"
    }
   ],
   "source": [
    "import heapq\n",
    "\n",
    "def heap_sort_asc(iterable):\n",
    "    h = []\n",
    "    res = []\n",
    "\n",
    "    # 모든 원소를 차례대로 힙에 삽입\n",
    "    for value in iterable:\n",
    "        heapq.heappush(h, value)\n",
    "\n",
    "    # 힙에 삽입된 모든 원소를 차례대로 꺼내어 담기\n",
    "    for i in range(len(h)):\n",
    "        res.append(heapq.heappop(h))\n",
    "\n",
    "    return res\n",
    "\n",
    "heap_sort_asc([1,3,5,7,9,2,4,6,8,0])"
   ]
  },
  {
   "cell_type": "markdown",
   "metadata": {},
   "source": [
    "### bisect\n",
    "- 파이썬에서 이진탐색을 위해 제공되는 라이브러리. 정렬된 배열에서 특정한 원소를 찾아야 할 때 효과적으로 사용\n",
    "- bisect_left(a,x) : 정렬된 순서를 유지하면서 리스트a에 데이터x를 삽입할 가장 왼쪽 인덱스를 찾는 메서드\n",
    "- bisect_right(a,x) : 정렬된 순서를 유지하면서 리스트a에 데이터x를 삽입할 가장 오른쪽 인덱스를 찾는 메서드"
   ]
  },
  {
   "cell_type": "code",
   "execution_count": 30,
   "metadata": {},
   "outputs": [
    {
     "data": {
      "text/plain": [
       "1"
      ]
     },
     "execution_count": 30,
     "metadata": {},
     "output_type": "execute_result"
    }
   ],
   "source": [
    "from bisect import bisect_left, bisect_right\n",
    "\n",
    "data = [1,4,5,2,2,3,19,192,39]\n",
    "target = 2\n",
    "bisect_left(data,target)"
   ]
  },
  {
   "cell_type": "code",
   "execution_count": 31,
   "metadata": {},
   "outputs": [
    {
     "data": {
      "text/plain": [
       "5"
      ]
     },
     "execution_count": 31,
     "metadata": {},
     "output_type": "execute_result"
    }
   ],
   "source": [
    "bisect_right(data,target)"
   ]
  },
  {
   "cell_type": "markdown",
   "metadata": {},
   "source": [
    "## collections - 파이썬에서 유용한 자료구조를 제공하는 표준 라이브러리\n",
    "\n",
    "- deque : 파이썬에서 큐 구현을 위해 사용함, 인덱신 슬라이싱등의 기능은 사용 불가. 연속적으로 나열된 데이터의 시작/끝 부분에 데이터를 삽입하거나 삭제할때 효과적"
   ]
  },
  {
   "cell_type": "code",
   "execution_count": 32,
   "metadata": {},
   "outputs": [
    {
     "name": "stdout",
     "output_type": "stream",
     "text": [
      "deque(['appendlefr', 2, 3, 4, 'append'])\n"
     ]
    }
   ],
   "source": [
    "# popleft(): 첫번째 원소 제거\n",
    "# pop(): 마지막 원소 제거\n",
    "# appendleft(x) : 첫번째 인덱스에 원소 X를 삽입\n",
    "# append(x) : 마지막 인덱스에 원소 X를 삽입\n",
    "\n",
    "from collections import deque\n",
    "\n",
    "data = deque([2,3,4])\n",
    "data.appendleft(\"appendlefr\") # deque([2,3,4])의 왼쪽에 문자열 삽입\n",
    "data.append('append') # deque([\"appendlefr\", 2,3,4])의 오른쪽에 문자열 삽입\n",
    "print(data)"
   ]
  },
  {
   "cell_type": "code",
   "execution_count": 33,
   "metadata": {},
   "outputs": [
    {
     "name": "stdout",
     "output_type": "stream",
     "text": [
      "deque([2, 3, 4])\n"
     ]
    }
   ],
   "source": [
    "data.popleft()\n",
    "data.pop()\n",
    "print(data)"
   ]
  },
  {
   "cell_type": "markdown",
   "metadata": {},
   "source": [
    "- counter : iterable 객체가 주어졌을 때, 해당 객체 내부의 원소가 몇번씩 등장했는지 카운트 결과를 dict 형태로 반환"
   ]
  },
  {
   "cell_type": "code",
   "execution_count": 34,
   "metadata": {},
   "outputs": [
    {
     "data": {
      "text/plain": [
       "{'apple': 5, 'banana': 5, 'melon': 2}"
      ]
     },
     "execution_count": 34,
     "metadata": {},
     "output_type": "execute_result"
    }
   ],
   "source": [
    "from collections import Counter\n",
    "data = [\"apple\",\"apple\",\"apple\",\"apple\",\"apple\",\"banana\",\"banana\",\"banana\",\"banana\",\"banana\",\"melon\",\"melon\"]\n",
    "Counter = dict(Counter(data))\n",
    "Counter"
   ]
  },
  {
   "cell_type": "markdown",
   "metadata": {},
   "source": [
    "## math\n",
    "- 자주 사용되는 수학적인 기능을 포함하는 라이브러리\n",
    "- factorial(x) : 1부터 x까지 곱한 값을 반환"
   ]
  },
  {
   "cell_type": "code",
   "execution_count": 36,
   "metadata": {},
   "outputs": [
    {
     "data": {
      "text/plain": [
       "24"
      ]
     },
     "execution_count": 36,
     "metadata": {},
     "output_type": "execute_result"
    }
   ],
   "source": [
    "from math import factorial\n",
    "factorial(4)"
   ]
  },
  {
   "cell_type": "markdown",
   "metadata": {},
   "source": [
    "- sqrt(x) : x의 제곱근 반환, 즉 루트x를 반환"
   ]
  },
  {
   "cell_type": "code",
   "execution_count": 40,
   "metadata": {},
   "outputs": [
    {
     "data": {
      "text/plain": [
       "3.0"
      ]
     },
     "execution_count": 40,
     "metadata": {},
     "output_type": "execute_result"
    }
   ],
   "source": [
    "from math import sqrt\n",
    "sqrt(9)"
   ]
  },
  {
   "cell_type": "markdown",
   "metadata": {},
   "source": [
    "- gcd(a,b) : a, b의 최대공약수 반환"
   ]
  },
  {
   "cell_type": "code",
   "execution_count": 41,
   "metadata": {},
   "outputs": [
    {
     "data": {
      "text/plain": [
       "2"
      ]
     },
     "execution_count": 41,
     "metadata": {},
     "output_type": "execute_result"
    }
   ],
   "source": [
    "from math import gcd\n",
    "gcd(4,2)"
   ]
  },
  {
   "cell_type": "markdown",
   "metadata": {},
   "source": [
    "- 파이(pi), 자연상수(e)"
   ]
  },
  {
   "cell_type": "code",
   "execution_count": 42,
   "metadata": {},
   "outputs": [
    {
     "name": "stdout",
     "output_type": "stream",
     "text": [
      "3.141592653589793\n",
      "2.718281828459045\n"
     ]
    }
   ],
   "source": [
    "from math import pi, e\n",
    "print(pi)\n",
    "print(e)"
   ]
  },
  {
   "cell_type": "markdown",
   "metadata": {},
   "source": [
    "## 2018 카카오 코딩테스트 5번"
   ]
  },
  {
   "cell_type": "code",
   "execution_count": 47,
   "metadata": {},
   "outputs": [
    {
     "name": "stdout",
     "output_type": "stream",
     "text": [
      "16384\n",
      "65536\n",
      "43690\n"
     ]
    }
   ],
   "source": [
    "import re\n",
    "from collections import Counter\n",
    "\n",
    "def solution(str1, str2):\n",
    "    str1 = str1.lower()\n",
    "    str2 = str2.lower()\n",
    "\n",
    "    str1List = []\n",
    "    str2List = []\n",
    "    pattern = re.compile(r'[a-z]{2}')\n",
    "\n",
    "    # str1에서 두 글자씩 추출\n",
    "    for i in range(len(str1) - 1):\n",
    "        pair = str1[i] + str1[i+1]\n",
    "        if re.match(pattern, pair):\n",
    "            str1List.append(pair)\n",
    "\n",
    "    # str2에서 두 글자씩 추출\n",
    "    for i in range(len(str2) - 1):\n",
    "        pair = str2[i] + str2[i+1]\n",
    "        if re.match(pattern, pair):\n",
    "            str2List.append(pair)\n",
    "\n",
    "    # 각각의 리스트에서 요소의 개수를 카운팅\n",
    "    str1Counter = Counter(str1List)\n",
    "    str2Counter = Counter(str2List)\n",
    "\n",
    "    # 교집합과 합집합 구하기\n",
    "    intersection = list((str1Counter & str2Counter).elements())\n",
    "    union = list((str1Counter | str2Counter).elements())\n",
    "\n",
    "    # 자카드 유사도 계산\n",
    "    if len(union) == 0:  # 공집합일 경우 유사도는 1\n",
    "        return 65536\n",
    "    jaccard_similarity = int((len(intersection) / len(union)) * 65536)\n",
    "\n",
    "    return jaccard_similarity\n",
    "\n",
    "# 테스트케이스 실행\n",
    "testcase = [\n",
    "    ('FRANCE', 'french'),\n",
    "    ('handshake', 'shake hands'),\n",
    "    ('aa1+aa2', 'AAAA12')\n",
    "]\n",
    "\n",
    "for str1, str2 in testcase:\n",
    "    print(solution(str1, str2))\n"
   ]
  },
  {
   "cell_type": "markdown",
   "metadata": {},
   "source": [
    "## 2018 카카오 코딩테스트 6번"
   ]
  },
  {
   "cell_type": "code",
   "execution_count": 48,
   "metadata": {},
   "outputs": [
    {
     "data": {
      "text/plain": [
       "[['C', 'C', 'B', 'D', 'E'],\n",
       " ['A', 'A', 'A', 'D', 'E'],\n",
       " ['A', 'A', 'A', 'B', 'F'],\n",
       " ['C', 'C', 'B', 'B', 'F']]"
      ]
     },
     "execution_count": 48,
     "metadata": {},
     "output_type": "execute_result"
    }
   ],
   "source": [
    "[list(i)for i in ['CCBDE', 'AAADE', 'AAABF', 'CCBBF']]"
   ]
  },
  {
   "cell_type": "code",
   "execution_count": 49,
   "metadata": {},
   "outputs": [
    {
     "data": {
      "text/plain": [
       "[['T', 'T', 'T', 'A', 'N', 'T'],\n",
       " ['R', 'R', 'F', 'A', 'C', 'C'],\n",
       " ['R', 'R', 'R', 'F', 'C', 'C'],\n",
       " ['T', 'R', 'R', 'R', 'A', 'A'],\n",
       " ['T', 'T', 'M', 'M', 'M', 'F'],\n",
       " ['T', 'M', 'M', 'T', 'T', 'J']]"
      ]
     },
     "execution_count": 49,
     "metadata": {},
     "output_type": "execute_result"
    }
   ],
   "source": [
    "[list(i)for i in ['TTTANT', 'RRFACC', 'RRRFCC', 'TRRRAA', 'TTMMMF', 'TMMTTJ']]"
   ]
  },
  {
   "cell_type": "code",
   "execution_count": null,
   "metadata": {},
   "outputs": [],
   "source": [
    "import numpy as np\n",
    "\n"
   ]
  },
  {
   "cell_type": "markdown",
   "metadata": {},
   "source": []
  }
 ],
 "metadata": {
  "kernelspec": {
   "display_name": "Python 3",
   "language": "python",
   "name": "python3"
  },
  "language_info": {
   "codemirror_mode": {
    "name": "ipython",
    "version": 3
   },
   "file_extension": ".py",
   "mimetype": "text/x-python",
   "name": "python",
   "nbconvert_exporter": "python",
   "pygments_lexer": "ipython3",
   "version": "3.12.4"
  }
 },
 "nbformat": 4,
 "nbformat_minor": 2
}
